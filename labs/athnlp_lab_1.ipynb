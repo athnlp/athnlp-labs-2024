{
  "cells": [
    {
      "cell_type": "markdown",
      "metadata": {
        "id": "sjz474s01qZE"
      },
      "source": [
        "# AthNLP 2024: Lab 1\n",
        "\n",
        "# Table of Contents\n",
        "\n",
        "---\n",
        "\n",
        "### 1. [**Goal of this Lab**](#section:goal)\n",
        "\n",
        "### 2. [**Preliminaries**](#section:preliminaries)\n",
        "\n",
        "### 3. [**Part 1:Word Embeddings**](#section:word_embedds)\n",
        "\n",
        "- #### [**Text Normalisation**](#section:Text_normalisation)\n",
        "\n",
        "### 4. [**Part 2: Multilayer Perceptron & Sentiment Classifier**](#section:mlp_pt1)\n",
        "\n",
        "- #### [**Train & Test data**](#section:train_test_split)\n",
        "\n",
        "- #### [**Exercise 1 - Forward function & fully connected stack**](#section:exercise_1)\n",
        "\n",
        "- #### [**Exercise 2 - Sentiment prediction**](#section:exercise_2)\n",
        "\n",
        "### 4. [**Part 3: BERT embeddings**](#section:BERT)\n",
        "\n",
        "\n",
        "### 8. [**Conclusion**](#section:conclusion)\n",
        "\n",
        "### 9. [**Acknowledgements**](#section:acknowledgements)\n"
      ]
    },
    {
      "cell_type": "markdown",
      "metadata": {
        "id": "0YU3vGF51qZF"
      },
      "source": [
        "<a name=\"section:goal\"></a>\n",
        "\n",
        "# Goal of this Lab\n"
      ]
    },
    {
      "cell_type": "markdown",
      "metadata": {
        "id": "9pvhqS4q1qZF"
      },
      "source": [
        "The aim of this lab is to introduce some fundamental concepts and methodologies that will get you\n",
        "started on your NLP beginner-to-expert journey! To be more specific, today we will initially explain how\n",
        "linguistic content is broken down and processed, while in the latter parts we will also be building\n",
        "our own Neural model architecture, a Multi-Layer Perceptron (MLP) model, which we will use to\n",
        "classify the sentiment of a sentence! In short, this lab will be split into three parts.\n",
        "\n",
        "- Text & Word Embeddings\n",
        "- MLP for sentiment classification with custom word embeddings\n",
        "- MLP for sentiment classification with BERT embeddings\n"
      ]
    },
    {
      "cell_type": "markdown",
      "metadata": {
        "id": "CRGCCgz_1qZF"
      },
      "source": [
        "<a name=\"section:preliminaries\"></a>\n",
        "\n",
        "# Preliminaries\n"
      ]
    },
    {
      "cell_type": "markdown",
      "metadata": {
        "id": "5Ty3VIE81qZG"
      },
      "source": [
        "Let's begin by loading all our libraries. This might take a second.\n"
      ]
    },
    {
      "cell_type": "code",
      "source": [
        "!wget https://raw.githubusercontent.com/athnlp/athnlp-labs-2024/main/data/imdb_dataset.csv -O imdb_dataset.csv\n",
        "\n",
        "!pip install datasets ipdb evaluate\n",
        "\n",
        "%load_ext rich"
      ],
      "metadata": {
        "id": "UL6XLFvO13GJ"
      },
      "execution_count": null,
      "outputs": []
    },
    {
      "cell_type": "code",
      "execution_count": null,
      "metadata": {
        "id": "JAt5zBIR1qZG"
      },
      "outputs": [],
      "source": [
        "import ipdb\n",
        "\n",
        "\n",
        "import nltk\n",
        "nltk.download('punkt')\n",
        "\n",
        "\n",
        "from gensim.models import Word2Vec\n",
        "from nltk.tokenize import word_tokenize\n",
        "\n",
        "\n",
        "from pandas import read_csv\n",
        "from sklearn.model_selection import train_test_split\n",
        "\n",
        "import re\n",
        "import torch\n",
        "import torch.nn as nn\n",
        "from transformers import TrainingArguments, Trainer\n",
        "from transformers import AutoTokenizer, AutoModelForSequenceClassification\n",
        "\n",
        "\n",
        "import datasets\n",
        "from tqdm.notebook import tqdm\n",
        "\n",
        "\n",
        "seed = 2024\n"
      ]
    },
    {
      "cell_type": "code",
      "source": [],
      "metadata": {
        "id": "Vpya4Ca9BxU0"
      },
      "execution_count": null,
      "outputs": []
    },
    {
      "cell_type": "markdown",
      "metadata": {
        "id": "M5aqhJY71qZG"
      },
      "source": [
        "<a name=\"section:word_embedds\"></a>\n",
        "\n",
        "# Word Embeddings\n"
      ]
    },
    {
      "cell_type": "markdown",
      "metadata": {
        "id": "vSFh4V6n1qZG"
      },
      "source": [
        "This section will tackle text; namely how to process text in order for it to be fit for model\n",
        "consumption. This is usually done through a process called **tokenisation** (or tokenization with\n",
        "the American spelling system), where text is broken down into smaller units (can range from individual\n",
        "words to punctuation marks).\n",
        "\n",
        "These individual units are then mapped, with each unit having it's own\n",
        "unique identifying \"fingerprint\" or their **embedding**. Embeddings are uually a list of either\n",
        "floats or integers, which are mapped unto each unit. It is important to explain that an\n",
        "embedding is not exactly akin to an index to a dictionary. While yes, each word embedding will\n",
        "correspond to a unit of speech, word embeddings are created in a way that also tends to denote\n",
        "similarities in meaning: words with high pairwise similarity in embeddings should also denote\n",
        "semantic similarity.\n",
        "\n",
        "To explain how this process works, run the next cell.\n"
      ]
    },
    {
      "cell_type": "code",
      "execution_count": null,
      "metadata": {
        "id": "BtCtCJ0I1qZG"
      },
      "outputs": [],
      "source": [
        "toy_data = [\n",
        "    \"Word embed£££ings are a type of word repres$$@£entation that allows for           word!!!s to be represented as individual vectors in a continuous vECTor space.\",\n",
        "    \"Every word is     map!!!!ped to one vecTOR and the ve$$@$$@ctor values are learned in a way that resembles a neu$$@ral network,      so the vectors capture many subtle linguistic properties.\",\n",
        "    \"Vectors can indicate the similarity      bet,,ween WorDs, and be used to derive rela!!!!!!!tionships between Words.\",\n",
        "    \"But vectors can also be used to map for semantic and contextual similarities between words.\",\n",
        "    \"Word embeDDings can be extra!!cted from      large corpuses of text, although bigger is not always better, as      text quality can impact on embeDDings!\",\n",
        "]\n"
      ]
    },
    {
      "cell_type": "markdown",
      "metadata": {
        "id": "wRhJupPe1qZH"
      },
      "source": [
        "Let's assume that the above text is perfect as is. We now need to take the text and break it down\n",
        "into the aforementioned units of speech. Run the below cells to do this through an off-the-shelf\n",
        "package (don't worry, we'll be doing our own tokenisation soon!).\n"
      ]
    },
    {
      "cell_type": "code",
      "execution_count": null,
      "metadata": {
        "id": "8Q2E4Yei1qZH"
      },
      "outputs": [],
      "source": [
        "# @title Off-the-shelf tokenization {\"run\":\"auto\",\"display-mode\":\"both\"}\n",
        "# @markdown Look at the before/after for each sentence from the `toy_data` list by changing the index below.\n",
        "\n",
        "tokenized_sentences = [word_tokenize(sentence) for sentence in toy_data]\n",
        "\n",
        "sentence_index = 1 # @param {\"type\":\"integer\"}\n",
        "\n",
        "print(\"Before: \", toy_data[sentence_index])\n",
        "print(\"After: \", tokenized_sentences[sentence_index])"
      ]
    },
    {
      "cell_type": "markdown",
      "metadata": {
        "id": "vKocaRtz1qZH"
      },
      "source": [
        "Excellent, absolutely nothing wrong with the above, let's proceed to get the indibidual word\n",
        "embeddings. For now, let's assume that the toy data we have is our sole corpus. To extract the word\n",
        "embeddings, we will be using _Word2Vec_.\n",
        "\n",
        "While we will not be covering Word2Vec extensively, you should read [this\n",
        "paper](https://arxiv.org/pdf/1301.3781) if interested. In short, Word2Vec takes text tokens, and\n",
        "aims to patterns of co-occurence of words in the text, which usually denote at least a contextual\n",
        "similarity.\n",
        "\n",
        "The context of each word is denoted by the so called **window**, how many tokens before and after\n",
        "the model should take into account for each unit. Small windows means that each word has little\n",
        "contextual knowledge, while large windows can often lessen the significance for each one unit in a corpus. The\n",
        "**vector size** denotes the size / dimensionality of the resulting vector, which will serve at the\n",
        "unique identifier for each word. For a full breakdown of the arguments [see here](https://radimrehurek.com/gensim/models/word2vec.html)\n"
      ]
    },
    {
      "cell_type": "code",
      "execution_count": null,
      "metadata": {
        "id": "hTp58wIY1qZH"
      },
      "outputs": [],
      "source": [
        "model = Word2Vec(tokenized_sentences, vector_size=20, window=5, min_count=1, workers=4)\n",
        "word_embeddings = model.wv\n",
        "\n",
        "print(word_embeddings[\"word\", \"Word\"])"
      ]
    },
    {
      "cell_type": "markdown",
      "source": [
        "<a name=\"section:Text_normalisation\"></a>\n",
        "\n",
        "# Text normalisation\n",
        "\n",
        "So as expected, we have some issues here. The words _word_ and _Word_ are not treated as equal\n",
        "based on their word embeddings not being the same. This is unacceptable.\n",
        "\n",
        "To avoid issues like these, there needs to be some sort of cleaning, a **preprocessing** step,\n",
        "where text is **normalised** into . Basically, text is messy, and for models to make associations\n",
        "correctly between seemingly dissimilar strings, we need to format text in a way that allows for an \"Apples to apples\" comparison.\n"
      ],
      "metadata": {
        "id": "zXQg1GtQ4wrC"
      }
    },
    {
      "cell_type": "code",
      "execution_count": null,
      "metadata": {
        "id": "74jrkEjY1qZI"
      },
      "outputs": [],
      "source": [
        "# @title Tokenization after normalisation {\"run\":\"auto\",\"display-mode\":\"both\"}\n",
        "# @markdown Look at the before/after for each sentence from the `toy_data` list by changing the index below.\n",
        "\n",
        "\n",
        "def normalise_text(text):\n",
        "    # Remove special characters manually\n",
        "    cleaned_text = \"\".join(char for char in text if char.isalnum() or char.isspace())\n",
        "    # Remove extra spaces\n",
        "    cleaned_text = \" \".join(cleaned_text.split())\n",
        "    # Convert to lowercase\n",
        "    cleaned_text = cleaned_text.lower()\n",
        "    return cleaned_text\n",
        "\n",
        "\n",
        "def normalise_dataset(dataset):\n",
        "    cleaned_data = [normalise_text(sentence) for sentence in dataset]\n",
        "    # return cleaned data\n",
        "    return cleaned_data\n",
        "\n",
        "\n",
        "cleaned_data = normalise_dataset(toy_data)\n",
        "clean_tokenized_sentences = [word_tokenize(sentence) for sentence in cleaned_data]\n",
        "\n",
        "sentence_index = 1 # @param {\"type\":\"integer\"}\n",
        "\n",
        "print(\"Before: \", toy_data[sentence_index])\n",
        "print(\"Tokenised: \")\n",
        "print(tokenized_sentences[sentence_index])\n",
        "print(\"Normalised+Tokenised: \")\n",
        "print(clean_tokenized_sentences[sentence_index])"
      ]
    },
    {
      "cell_type": "markdown",
      "metadata": {
        "id": "jKRY9rti1qZI"
      },
      "source": [
        "So far so good. Let's run the next cell and feel free to explore the embeddings for a given word!\n"
      ]
    },
    {
      "cell_type": "code",
      "execution_count": null,
      "metadata": {
        "id": "VzJ8nwW41qZI"
      },
      "outputs": [],
      "source": [
        "# @title Explore word embeddings {\"run\":\"auto\",\"vertical-output\":true,\"display-mode\":\"both\"}\n",
        "# @markdown View the word embeddings a word\n",
        "\n",
        "model = Word2Vec(tokenized_sentences, vector_size=20, window=5, min_count=1, workers=4)\n",
        "word_embeddings = model.wv\n",
        "\n",
        "word_to_print = \"word\" # @param {\"type\":\"string\"}\n",
        "\n",
        "print(word_embeddings[word_to_print])"
      ]
    },
    {
      "cell_type": "markdown",
      "source": [
        "<a name=\"section:mlp_pt1\"></a>\n",
        "\n",
        "# Multi-layer Perceptrons and Sentiment classification"
      ],
      "metadata": {
        "id": "Bq4cGHCb3icF"
      }
    },
    {
      "cell_type": "markdown",
      "source": [
        "Just as a reminder from the lecture, this is what a Multilayer Perceptron should look like (picture taken from [here](https://austingwalters.com/classify-sentences-via-a-multilayer-perceptron-mlp/))."
      ],
      "metadata": {
        "id": "ClbUaknM3jZQ"
      }
    },
    {
      "cell_type": "markdown",
      "source": [
        "![mlp_.png](data:image/png;base64,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)"
      ],
      "metadata": {
        "id": "DLbZUflq7oPK"
      }
    },
    {
      "cell_type": "markdown",
      "source": [
        "In this section, you will be building the fully conneted hidden layers, how exciting!\n",
        "\n",
        "before we begin our process, we need to load our data.\n"
      ],
      "metadata": {
        "id": "NDb76bYW70I8"
      }
    },
    {
      "cell_type": "code",
      "execution_count": null,
      "metadata": {
        "id": "sReXLcQd1qZI"
      },
      "outputs": [],
      "source": [
        "data_imdb = read_csv(\"imdb_dataset.csv\")\n",
        "data_imdb.head()"
      ]
    },
    {
      "cell_type": "markdown",
      "source": [
        "As we can see, the text is in need for some normalisation. Run the following to do so."
      ],
      "metadata": {
        "id": "mtVoowChQPY8"
      }
    },
    {
      "cell_type": "code",
      "execution_count": null,
      "metadata": {
        "id": "58zWJYgV1qZI"
      },
      "outputs": [],
      "source": [
        "def normalise_data_imdb(sentence: str):\n",
        "    # Combine all regex operations into one\n",
        "    sentence = re.sub(\n",
        "        r'[!#?,.:\";/>\\*\\(\\)]', \" \", sentence\n",
        "    )  # Remove punctuation and specified chars\n",
        "    sentence = re.sub(r\"\\n\", \" \", sentence)  # Replace newline characters with a space\n",
        "    sentence = re.sub(r\" +\", \" \", sentence)  # Remove multiple spaces\n",
        "    sentence = re.sub(r\"\\S*<br\\S*\", \"\", sentence)  # Remove tokens containing \"<br\"\n",
        "    sentence = sentence.lower()  # Convert to lowercase\n",
        "    sentence = \" \".join(sentence.split())\n",
        "    # Return the cleaned sentence, removing any leading or trailing spaces\n",
        "    return sentence.strip()\n",
        "\n",
        "cleaned_data_imdb = data_imdb\n",
        "cleaned_data_imdb[\"review\"] = data_imdb[\"review\"].apply(lambda x: normalise_data_imdb(x))\n",
        "cleaned_data_imdb[\"review\"]\n"
      ]
    },
    {
      "cell_type": "markdown",
      "metadata": {
        "id": "bPcvLpPB1qZI"
      },
      "source": [
        "So now that our data is normalised, we need to create a vocabulary of each unique individual tokenised unit both for our corpus text, but also our responses.\n",
        "\n"
      ]
    },
    {
      "cell_type": "code",
      "execution_count": null,
      "metadata": {
        "id": "C3Bx-mbK1qZI"
      },
      "outputs": [],
      "source": [
        "unique_words = {word for sentence in cleaned_data_imdb[\"review\"] for word in sentence.split(\" \")}\n",
        "unique_responses = set(cleaned_data_imdb[\"sentiment\"])\n",
        "\n",
        "vocab = {word: idx for idx, word in enumerate(unique_words)}\n",
        "vocab_response = {response: idx for idx, response in enumerate(unique_responses)}\n",
        "\n",
        "# We'll need this for later\n",
        "voc_size = len(unique_words)\n",
        "\n",
        "print(list(vocab.items())[0:4], list(vocab_response.items()))"
      ]
    },
    {
      "cell_type": "markdown",
      "source": [
        "<a name=\"section:train_test_split\"></a>\n",
        "\n",
        "# Train & Test data"
      ],
      "metadata": {
        "id": "4Pb1R4ry8upR"
      }
    },
    {
      "cell_type": "markdown",
      "source": [
        "So now that we have our dictionaries for both our text tokens and our responses (otherwise known as **labels**), we need to split our corpus into our training and testing set.\n",
        "\n",
        "This is standard practice. The intuition is that while we want to train our model with a large corpus of data, our model can become **too** good at recognising patterns in our corpus, and then fail when employed in previously unseen data. This phenomenon is called **overfitting**, more formally referred to as the model's inability to generalise. An overfitted model essentially means that our model has learned to solve a corpus by looking at patterns of the words contained to such a level that it will not work when taken outside of that context.\n",
        "\n",
        "As such, the reason as to why we split the data into sets is to train on one, and once a training \"round\" is over, we can test performance on a unseen data. In the code chunk below we will be splitting our dataset into a train set (80% of the data), and a test set (20% of the data).\n",
        "\n"
      ],
      "metadata": {
        "id": "VDVenq2KflWF"
      }
    },
    {
      "cell_type": "code",
      "execution_count": null,
      "metadata": {
        "id": "0S5-zldO1qZJ"
      },
      "outputs": [],
      "source": [
        "x_train, x_test, y_train, y_test = train_test_split(\n",
        "    cleaned_data_imdb[\"review\"],\n",
        "    cleaned_data_imdb[\"sentiment\"],\n",
        "    test_size=0.2,\n",
        "    random_state=seed,\n",
        "    shuffle=True,\n",
        "    stratify=cleaned_data_imdb[\"sentiment\"],\n",
        ")\n"
      ]
    },
    {
      "cell_type": "markdown",
      "metadata": {
        "id": "OcYG41361qZJ"
      },
      "source": [
        "Let's check our data to fully understand what we just did.\n",
        "\n"
      ]
    },
    {
      "cell_type": "code",
      "source": [
        "# @title View the split data (training)\n",
        "# @markdown Change the index to view that example\n",
        "\n",
        "index = 0 # @param {\"type\":\"integer\"}\n",
        "\n",
        "\n",
        "print(\"x_train: \", x_train[index])\n",
        "print(\"y_train: \", y_train[index])\n"
      ],
      "metadata": {
        "id": "dwNmQw09iy19"
      },
      "execution_count": null,
      "outputs": []
    },
    {
      "cell_type": "markdown",
      "source": [
        "So now we have our *tokens* split as part of the x_train and x_test (train and test corpus respectively), and our *labels* as part of the y_train and y_test. Great, so for every x we must make a model that predicts y, easy peasy.\n",
        "\n",
        "Below we'll set up a few functions that we'll use later in our models to extract the identifier of each word. We'll use this later, but the functions should be self evident."
      ],
      "metadata": {
        "id": "UfvYqHrbkcaB"
      }
    },
    {
      "cell_type": "code",
      "source": [
        "# Extracts the index for each token in a normalised sentence\n",
        "def tokenize_sentence(sentence: str) -> list[int]:\n",
        "    return [vocab[word] for word in sentence.split(\" \")]\n",
        "\n",
        "# Extracts the index of a label\n",
        "def tokenize_response(response: str) -> int:\n",
        "    return vocab_response[response]\n"
      ],
      "metadata": {
        "id": "xlwR6Z_kbIUb"
      },
      "execution_count": null,
      "outputs": []
    },
    {
      "cell_type": "markdown",
      "source": [
        "And now it's time to finally build our model. To begin with, we'll provide you with some of our *hyperparameters*. These are little aspects of configurability with our soon-to-be-built model. For now, just run these, although you can (and should) ask questions here about what each aspect does!"
      ],
      "metadata": {
        "id": "Ydve-96olQp8"
      }
    },
    {
      "cell_type": "code",
      "source": [
        "dropout_prob = 0.3\n",
        "embedding_dim = 32 # This might be important in the next block!\n",
        "num_classes = 2\n",
        "hidden_size_l1 = 32 # This might be important in the next block!\n",
        "hidden_size_l2 = 32 # This might be important in the next block!\n",
        "hidden_size_l3 = 32 # This might be important in the next block!\n",
        "num_epochs = 6\n"
      ],
      "metadata": {
        "id": "QbtI3rITmftm"
      },
      "execution_count": null,
      "outputs": []
    },
    {
      "cell_type": "markdown",
      "source": [
        "<a name=\"section:exercise_1\"></a>\n",
        "\n",
        "# Exercise 1- Forward function & fully connected stack"
      ],
      "metadata": {
        "id": "Cj6MPWP986Zu"
      }
    },
    {
      "cell_type": "markdown",
      "source": [
        "And now finally, time to implement some code!\n",
        "\n",
        "What we would like you to do is to fill the forward and __init__ functions in the nn.Module. Things to remember here.\n",
        "\n",
        "The **__init__** function should instantiate your stack of layers\n",
        "\n",
        "- **__init__** that will instantiate the stack of layers and activation functions (e.g., Linear, ReLu, dropout, etc.).\n",
        "- **forward**: the forward pass of the model. This will accept a batch of sentence embeddings from the dataset and return the logits for each element in the batch.\n",
        "\n",
        "Remember that we need to use an embedding layer that is custom made...\n",
        "\n",
        "**Init Hint 1** perhaps you might find some help [here](https://pytorch.org/docs/stable/generated/torch.nn.Embedding.html), [here](https://pytorch.org/docs/stable/generated/torch.nn.Linear.html), and [here](https://pytorch.org/docs/stable/generated/torch.nn.Sequential.html)\n",
        "\n",
        "**Init Hint 2** shape(size of vocabulary, size of embedding dimensions)!\n",
        "\n",
        "**Forward Hint 1** input needs to be embedded...\n",
        "\n",
        "**Forward Hint 2** we need to go many word embeddings to a single sentence embedding...\n",
        "\n",
        "**Forward Hint 3** Extract & return the logits and you're done!"
      ],
      "metadata": {
        "id": "EQQq7WwpmyDB"
      }
    },
    {
      "cell_type": "code",
      "execution_count": null,
      "metadata": {
        "id": "_c30kUxF1qZJ"
      },
      "outputs": [],
      "source": [
        "# @title [Task]\n",
        "\n",
        "import torch\n",
        "import torch.nn as nn\n",
        "\n",
        "\n",
        "class MLP(nn.Module):\n",
        "    def __init__(\n",
        "        self,\n",
        "        vocab_size: int,\n",
        "        embedding_dim: int,\n",
        "        hidden_size_l1: int,\n",
        "        hidden_size_l2: int,\n",
        "        hidden_size_l3: int,\n",
        "        output_dimensions: int,\n",
        "        dropout: float,\n",
        "    ):\n",
        "        raise NotImplementedError()\n",
        "\n",
        "    def forward(self, x):\n",
        "        raise NotImplementedError()\n"
      ]
    },
    {
      "cell_type": "markdown",
      "source": [
        "Time to intantiate our model! If done correctly, the below shouldn't break"
      ],
      "metadata": {
        "id": "_B9wPhjGnt_X"
      }
    },
    {
      "cell_type": "code",
      "execution_count": null,
      "metadata": {
        "id": "QY2E74DD1qZJ"
      },
      "outputs": [],
      "source": [
        "mlp_model = MLP(\n",
        "    vocab_size=voc_size,\n",
        "    embedding_dim=embedding_dim,\n",
        "    hidden_size_l1=hidden_size_l1,\n",
        "    hidden_size_l2=hidden_size_l2,\n",
        "    hidden_size_l3=hidden_size_l3,\n",
        "    output_dimensions=num_classes,\n",
        "    dropout=dropout_prob,\n",
        ")\n"
      ]
    },
    {
      "cell_type": "markdown",
      "source": [
        "And now time to train! Rule of thumb is that the loss should start to decrease given a few epochs. The below chunk shouldn't take too long to run."
      ],
      "metadata": {
        "id": "39SYE1z3nyYT"
      }
    },
    {
      "cell_type": "code",
      "execution_count": null,
      "metadata": {
        "id": "bOK811Hi1qZJ"
      },
      "outputs": [],
      "source": [
        "from tqdm.notebook import tqdm\n",
        "\n",
        "\n",
        "def train_model(model, x_train, y_train, optimizer, num_epochs):\n",
        "    print(\"Num Params: \", sum(p.numel() for p in model.parameters() if p.requires_grad))\n",
        "    print(model)\n",
        "\n",
        "    model.train()\n",
        "\n",
        "    for epoch in range(num_epochs):\n",
        "        progress_bar = tqdm(\n",
        "            total=len(x_train), desc=f\"Epoch {epoch + 1}/{num_epochs}\", unit=\"batch\"\n",
        "        )\n",
        "\n",
        "        total_loss = 0\n",
        "        correct_predictions = 0\n",
        "\n",
        "        for text, label in zip(x_train, y_train, strict=True):\n",
        "            # Convert the text to a tensor\n",
        "            text_tensor = torch.tensor(tokenize_sentence(text)).unsqueeze(0)\n",
        "            # Convert the label to a tensor\n",
        "            label_tensor = torch.tensor(tokenize_response(label)).unsqueeze(0)\n",
        "\n",
        "            # Forward pass\n",
        "            predictions = model(text_tensor)\n",
        "\n",
        "            # Calculate the loss\n",
        "            loss = torch.nn.functional.cross_entropy(predictions, label_tensor)\n",
        "\n",
        "            # Backward pass\n",
        "            loss.backward()\n",
        "            optimizer.step()\n",
        "            optimizer.zero_grad()\n",
        "\n",
        "\n",
        "            total_loss += loss.item()\n",
        "            correct_predictions += predictions.argmax(dim=-1).eq(label_tensor).sum().item()\n",
        "\n",
        "            progress_bar.set_postfix(\n",
        "                {\n",
        "                    \"loss\": total_loss / (progress_bar.n + 1),\n",
        "                    \"micro_accuracy\": correct_predictions / (progress_bar.n + 1),\n",
        "                }\n",
        "            )\n",
        "            # Increment the progress bar\n",
        "            progress_bar.update(1)\n",
        "\n",
        "        # Close the progress bar at the end of each epoch\n",
        "        progress_bar.close()\n",
        "\n",
        "NUM_EXAMPLES = 1000\n",
        "\n",
        "optimizer = torch.optim.Adam(mlp_model.parameters(), lr=1e-3)\n",
        "\n",
        "train_model(mlp_model, x_train[:NUM_EXAMPLES], y_train[:NUM_EXAMPLES], optimizer, num_epochs)"
      ]
    },
    {
      "cell_type": "markdown",
      "source": [
        "Cool, so we got our loss to go down, this must mean that our model is perfect to be used in the wild right? Let's just run a quick validation check with our test sample.\n",
        "\n",
        "Remember, the test loop is practically the same as the train loop, we do a forward pass, although there's no gradient optimisation from the loss obtained as we do not want to actively train on the test set (that would be cheating!)."
      ],
      "metadata": {
        "id": "_CCzRcQMoPCk"
      }
    },
    {
      "cell_type": "code",
      "execution_count": null,
      "metadata": {
        "id": "lR59MBXM1qZJ"
      },
      "outputs": [],
      "source": [
        "@torch.inference_mode()\n",
        "def eval_model(model, x_test, y_test):\n",
        "    mlp_model.eval()\n",
        "\n",
        "    progress_bar = tqdm(\n",
        "        total=len(x_test), desc=f\"Testing\", unit=\"batch\"\n",
        "    )\n",
        "\n",
        "    total_loss = 0\n",
        "    correct_predictions = 0\n",
        "\n",
        "    for text, label in zip(x_train, y_train, strict=True):\n",
        "        # Convert the text to a tensor\n",
        "        text_tensor = torch.tensor(tokenize_sentence(text)).unsqueeze(0)\n",
        "        # Convert the label to a tensor\n",
        "        label_tensor = torch.tensor(tokenize_response(label)).unsqueeze(0)\n",
        "\n",
        "        # Forward pass\n",
        "        predictions = model(text_tensor)\n",
        "\n",
        "        # Calculate the loss\n",
        "        loss = torch.nn.functional.cross_entropy(predictions, label_tensor)\n",
        "\n",
        "        # Backward pass missing!\n",
        "\n",
        "        total_loss += loss.item()\n",
        "        correct_predictions += predictions.argmax(dim=-1).eq(label_tensor).sum().item()\n",
        "\n",
        "        progress_bar.set_postfix(\n",
        "            {\n",
        "                \"loss\": total_loss / (progress_bar.n + 1),\n",
        "                \"micro_accuracy\": correct_predictions / (progress_bar.n + 1),\n",
        "            }\n",
        "        )\n",
        "        progress_bar.update(1)  # Increment the progress bar\n",
        "\n",
        "    progress_bar.close()\n",
        "\n",
        "NUM_EXAMPLES = 1000\n",
        "eval_model(mlp_model, x_test[:NUM_EXAMPLES], y_test[:NUM_EXAMPLES])\n"
      ]
    },
    {
      "cell_type": "markdown",
      "source": [
        "<a name=\"section:exercise_2\"></a>\n",
        "\n",
        "# Exercise 2 - Sentiment prediction"
      ],
      "metadata": {
        "id": "QBIJ-xvhwMOr"
      }
    },
    {
      "cell_type": "markdown",
      "source": [
        "So, now that our model seemingly runs, let's try to put it in practice, let's predict the sentiment of a sentence! An example is given below, but you can change the string to whatever you'd like (within reason)"
      ],
      "metadata": {
        "id": "dIMKXSpT9Oxc"
      }
    },
    {
      "cell_type": "code",
      "execution_count": null,
      "metadata": {
        "id": "uGIp6_C61qZJ"
      },
      "outputs": [],
      "source": [
        "sentence = \"I hate this move it's the worst movie I have ever seen\"\n"
      ]
    },
    {
      "cell_type": "markdown",
      "metadata": {
        "id": "MwkMkBkt1qZJ"
      },
      "source": [
        "So now we want to predict the sentiment of the sentence. Your task is to build the function that will do so.\n",
        "\n",
        "This can be done in a number of steps, but generally we want to:\n",
        "\n",
        "- Tensorise the tokenised sequence of the text\n",
        "- Extract the probability of a prediction...\n",
        "- Something something **argmax**\n",
        "- Something something use the reversed response dictionary that we have calculated for *no* reason\n",
        "- Return the correct prediction\n",
        "\n",
        "\n"
      ]
    },
    {
      "cell_type": "code",
      "execution_count": null,
      "metadata": {
        "id": "JFSix-ed1qZJ"
      },
      "outputs": [],
      "source": [
        "# @title [Task]\n",
        "\n",
        "def predict_sentiment(\n",
        "    text: str, model: nn.Module, reversed_response_dict: dict\n",
        ") -> tuple[str, float]:\n",
        "    raise NotImplementedError()"
      ]
    },
    {
      "cell_type": "code",
      "execution_count": null,
      "metadata": {
        "id": "rNas2jM_1qZK"
      },
      "outputs": [],
      "source": [
        "normalised_sentence = normalise_data_imdb(sentence)\n",
        "\n",
        "reversed_response_dict = {idx: response for response, idx in vocab_response.items()}\n",
        "\n",
        "# Exercise 2 - Sentiment prediction_imdb(sentence)\n",
        "predict_sentiment(normalised_sentence, mlp_model, reversed_response_dict)"
      ]
    },
    {
      "cell_type": "markdown",
      "metadata": {
        "id": "XYi-85s41qZK"
      },
      "source": [
        "<a name=\"section:BERT\"></a>\n",
        "\n",
        "# Pretrained Models & BERT"
      ]
    },
    {
      "cell_type": "markdown",
      "source": [
        "So we have managed to train a model, that's great! However, our performance is not amazing, and the time that a model takes to train is seemingly too long. So how can we improve upon this process? There's two main ways: improving upon the embeddings, and improving upon training speed.\n",
        "\n",
        "While the embeddings that we constructed are seemingly ok, we are limited by our corpus of choice (our dataset). Wouldn't it be great if we could somehow use a model that has already been trained on, let's say, a very sizeable chunk of the internet? What about training on more than one example at a time?\n",
        "\n",
        "Introducing **pretrained model**, and namely BERT! BERT stand for Bidirectional Encoder Representations from Transformers (paper [here](https://arxiv.org/abs/1810.04805)). BERT is a language representation model whose architecture has led to the boom of the NLP space from 2018 onwards.While you will hear more about transformers in later labs, today we want to show you how the choice of backbone models can greatly expedite and optimise our process.\n",
        "\n",
        "TL;DR use BERT to transform our word embeddings in a very straightforward way. This takes away from needing to preprocess manually, while also having a greatly expanded context.\n",
        "\n",
        "\n",
        "\n"
      ],
      "metadata": {
        "id": "3jlvmTvGS2NK"
      }
    },
    {
      "cell_type": "code",
      "execution_count": null,
      "metadata": {
        "id": "_KDYwhet1qZK"
      },
      "outputs": [],
      "source": [
        "# @title Convert our data to work with Hugging Face trainer\n",
        "\n",
        "import datasets\n",
        "import pandas as pd\n",
        "\n",
        "\n",
        "def get_raw_data_with_same_splits(\n",
        "    x_df: pd.DataFrame, y_df: pd.DataFrame\n",
        ") -> pd.DataFrame:\n",
        "    # Merge the two dataframes into one\n",
        "    df = pd.concat([x_df, y_df], axis=\"columns\")\n",
        "\n",
        "    # re-load the raw data\n",
        "    raw_data = read_csv(\"imdb_dataset.csv\")\n",
        "\n",
        "    # Use the indices from one df and get the raw data from the other\n",
        "    return raw_data.loc[df.index, raw_data.columns]\n",
        "\n",
        "\n",
        "dataset = (\n",
        "    datasets.DatasetDict({\n",
        "        \"train\": datasets.Dataset.from_pandas(\n",
        "            get_raw_data_with_same_splits(x_train, y_train)\n",
        "        ),\n",
        "        \"test\": datasets.Dataset.from_pandas(\n",
        "            get_raw_data_with_same_splits(x_test, y_test)\n",
        "        ),\n",
        "    })\n",
        "    .remove_columns(\"__index_level_0__\")\n",
        "    .rename_column(\"review\", \"text\")\n",
        "    .rename_column(\"sentiment\", \"label\")\n",
        "    .cast_column(\"label\", datasets.ClassLabel(names=[\"negative\", \"positive\"]))\n",
        ")\n",
        "\n",
        "dataset\n"
      ]
    },
    {
      "cell_type": "markdown",
      "source": [
        "Remember how much effort we put into tokenising and preprocessing? Try running the lines below..."
      ],
      "metadata": {
        "id": "LmMvyRe_c4l_"
      }
    },
    {
      "cell_type": "code",
      "source": [
        "# From: https://huggingface.co/google/bert_uncased_L-4_H-256_A-4\n",
        "pretrained_model_name = \"google/bert_uncased_L-2_H-128_A-2\"\n",
        "\n",
        "\n",
        "tokenizer = AutoTokenizer.from_pretrained(pretrained_model_name)\n",
        "\n",
        "\n",
        "sentence = \"I love this move it's best thing I have ever seen\"\n",
        "tokenizer.tokenize(sentence)\n"
      ],
      "metadata": {
        "id": "4n28LpYKc3B1"
      },
      "execution_count": null,
      "outputs": []
    },
    {
      "cell_type": "markdown",
      "source": [
        "You will learn more about the below lines in the next lab, but we'll explain briefly what they do. Basically, every sentence can be of different lengths right? However, when we **torch our data**, the result is a matrix whose dimensions have to be to be constant across examples.\n",
        "\n",
        "What we are doing here is **truncation**, the process of \"filling\" all the rows with a signifier that tells the model to pay no attention to these new \"empty\" tokens, while also shaping our data to the form that we need it to be in."
      ],
      "metadata": {
        "id": "BNw1kb7zc_3V"
      }
    },
    {
      "cell_type": "code",
      "source": [
        "def tokenize_function(examples):\n",
        "    return tokenizer(examples[\"text\"], max_length=512, truncation=True)\n",
        "\n",
        "tokenized_dataset = dataset.map(tokenize_function, batched=True).with_format(\"torch\")\n",
        "\n",
        "tokenized_dataset\n"
      ],
      "metadata": {
        "id": "0Zv-Awc3lVae"
      },
      "execution_count": null,
      "outputs": []
    },
    {
      "cell_type": "markdown",
      "source": [
        "The below lines are *extremely important*. Remember how our model took hours to train? That is because we were training with one example at a time, which we needed to do due to the uneven length of the torched data. However, now that our input data is fixed in size, we can **batch**!\n",
        "\n",
        "Batching data essentially means processing multiple examples at a time that are handled by parallel processes. A batch size of 8 will mean that we can process 8 examples at a time! The next line essentially should be self evident, although you'll learn more during the next fewl labs."
      ],
      "metadata": {
        "id": "iyaa10tZdwhA"
      }
    },
    {
      "cell_type": "code",
      "source": [
        "batch_size = 64\n",
        "device = torch.device(\n",
        "    \"cuda\"\n",
        "    if torch.cuda.is_available()\n",
        "    else \"mps\"\n",
        "    if torch.backends.mps.is_available()\n",
        "    else \"cpu\"\n",
        ")"
      ],
      "metadata": {
        "id": "M5pQPYTAe2d8"
      },
      "execution_count": null,
      "outputs": []
    },
    {
      "cell_type": "markdown",
      "source": [
        "The following line is a ready made \"classification\" model. That's right, it *can be this simple*"
      ],
      "metadata": {
        "id": "sBABVyoZff65"
      }
    },
    {
      "cell_type": "code",
      "execution_count": null,
      "metadata": {
        "id": "a-MaaWCO1qZL"
      },
      "outputs": [],
      "source": [
        "model = AutoModelForSequenceClassification.from_pretrained(pretrained_model_name, num_labels=2)\n",
        "model.to(device)\n",
        "\n",
        "for param in model.bert.parameters():\n",
        "    param.requires_grad = False\n",
        "for param in model.parameters():\n",
        "    param.data = param.data.contiguous()\n"
      ]
    },
    {
      "cell_type": "code",
      "source": [
        "model"
      ],
      "metadata": {
        "id": "FYnqAVFWfunC"
      },
      "execution_count": null,
      "outputs": []
    },
    {
      "cell_type": "markdown",
      "source": [
        "Setting our hyperparameters."
      ],
      "metadata": {
        "id": "ew3CiBTOfy13"
      }
    },
    {
      "cell_type": "code",
      "execution_count": null,
      "metadata": {
        "id": "7iD3jFoa1qZL"
      },
      "outputs": [],
      "source": [
        "import evaluate\n",
        "\n",
        "metric = evaluate.load(\"accuracy\")\n",
        "\n",
        "def compute_metrics(eval_pred):\n",
        "    logits, labels = eval_pred\n",
        "    predictions = logits.argmax(-1)\n",
        "    return metric.compute(predictions=predictions, references=labels)\n",
        "\n",
        "NUM_EXAMPLES = 1000\n",
        "\n",
        "training_args = TrainingArguments(\n",
        "    output_dir=\"test_trainer\",\n",
        "    learning_rate=5e-5,\n",
        "    per_device_train_batch_size=batch_size,\n",
        "    per_device_eval_batch_size=batch_size,\n",
        "    num_train_epochs=num_epochs,\n",
        "    weight_decay=0.01,\n",
        "    eval_strategy=\"epoch\",\n",
        "    save_strategy=\"epoch\",\n",
        "    logging_steps=1,\n",
        "    load_best_model_at_end=True,\n",
        ")\n",
        "trainer = Trainer(\n",
        "    model=model,\n",
        "    args=training_args,\n",
        "    train_dataset=tokenized_dataset['train'].select(range(NUM_EXAMPLES)),\n",
        "    eval_dataset=tokenized_dataset['test'].select(range(NUM_EXAMPLES)),\n",
        "    tokenizer=tokenizer,\n",
        "    compute_metrics=compute_metrics,\n",
        ")\n",
        "\n"
      ]
    },
    {
      "cell_type": "markdown",
      "source": [
        "Let it rip!"
      ],
      "metadata": {
        "id": "XA3qCBSrf_9C"
      }
    },
    {
      "cell_type": "code",
      "source": [
        "trainer.train()"
      ],
      "metadata": {
        "id": "KwuQ7k9vdtUV"
      },
      "execution_count": null,
      "outputs": []
    },
    {
      "cell_type": "code",
      "execution_count": null,
      "metadata": {
        "id": "7xdhPvxK1qZL"
      },
      "outputs": [],
      "source": [
        "trainer.evaluate()"
      ]
    }
  ],
  "metadata": {
    "kernelspec": {
      "display_name": "Python 3",
      "name": "python3"
    },
    "language_info": {
      "codemirror_mode": {
        "name": "ipython",
        "version": 3
      },
      "file_extension": ".py",
      "mimetype": "text/x-python",
      "name": "python",
      "nbconvert_exporter": "python",
      "pygments_lexer": "ipython3",
      "version": "3.10.14"
    },
    "colab": {
      "provenance": [],
      "toc_visible": true,
      "gpuType": "T4"
    },
    "accelerator": "GPU"
  },
  "nbformat": 4,
  "nbformat_minor": 0
}